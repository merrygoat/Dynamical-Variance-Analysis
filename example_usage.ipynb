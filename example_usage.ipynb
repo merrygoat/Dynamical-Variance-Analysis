{
 "cells": [
  {
   "cell_type": "markdown",
   "metadata": {
    "deletable": true,
    "editable": true
   },
   "source": [
    "# DVA - Dynamical Heterogeneity\n",
    "\n",
    "Based on method in Pastore, R. et al. Differential Variance Analysis: a direct method to quantify and visualize dynamic heterogeneities, Sci Rep. 2017; 7: 43496.\n",
    "\n",
    "See readme for more details."
   ]
  },
  {
   "cell_type": "markdown",
   "metadata": {
    "deletable": true,
    "editable": true
   },
   "source": [
    "# DVA Analysis"
   ]
  },
  {
   "cell_type": "code",
   "execution_count": 1,
   "metadata": {
    "collapsed": false,
    "deletable": true,
    "editable": true
   },
   "outputs": [
    {
     "name": "stdout",
     "output_type": "stream",
     "text": [
      "Loading images.\n",
      "Image Loading complete. Beginning analysis.\n"
     ]
    },
    {
     "name": "stderr",
     "output_type": "stream",
     "text": [
      "100%|█████████████████████████████████████████████████████████████████████████████| 4950/4950 [00:22<00:00, 224.21it/s]\n"
     ]
    },
    {
     "data": {
      "image/png": "[encoded data removed]",
      "text/plain": [
       "<matplotlib.figure.Figure at 0x29d22fdbe48>"
      ]
     },
     "metadata": {},
     "output_type": "display_data"
    }
   ],
   "source": [
    "import dva\n",
    "\n",
    "%matplotlib inline\n",
    "\n",
    "images_to_load = 100\n",
    "cutoff = 250\n",
    "image_directory = \"../DDM/example_images/\"\n",
    "file_prefix = \"iii_\"\n",
    "file_suffix = \".png\"\n",
    "num_particles = 500\n",
    "\n",
    "dva.main(images_to_load, cutoff, image_directory, file_prefix, file_suffix, num_particles)"
   ]
  },
  {
   "cell_type": "code",
   "execution_count": null,
   "metadata": {
    "collapsed": true
   },
   "outputs": [],
   "source": []
  }
 ],
 "metadata": {
  "anaconda-cloud": {},
  "kernelspec": {
   "display_name": "Python [default]",
   "language": "python",
   "name": "python3"
  },
  "language_info": {
   "codemirror_mode": {
    "name": "ipython",
    "version": 3
   },
   "file_extension": ".py",
   "mimetype": "text/x-python",
   "name": "python",
   "nbconvert_exporter": "python",
   "pygments_lexer": "ipython3",
   "version": "3.5.2"
  }
 },
 "nbformat": 4,
 "nbformat_minor": 2
}
