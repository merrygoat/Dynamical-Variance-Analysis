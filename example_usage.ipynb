{
 "cells": [
  {
   "cell_type": "markdown",
   "metadata": {
    "deletable": true,
    "editable": true
   },
   "source": [
    "# DVA - Dynamical Heterogeneity\n",
    "\n",
    "Based on method in Pastore, R. et al. Differential Variance Analysis: a direct method to quantify and visualize dynamic heterogeneities, Sci Rep. 2017; 7: 43496.\n",
    "\n",
    "See readme for more details."
   ]
  },
  {
   "cell_type": "markdown",
   "metadata": {
    "deletable": true,
    "editable": true
   },
   "source": [
    "# DVA Analysis"
   ]
  },
  {
   "cell_type": "code",
   "execution_count": null,
   "metadata": {
    "collapsed": true,
    "deletable": true,
    "editable": true
   },
   "outputs": [],
   "source": [
    "import dh\n",
    "\n",
    "images_to_load = 100\n",
    "cutoff = 250\n",
    "image_directory = \"example_images/\"\n",
    "file_prefix = \"i_\"\n",
    "file_suffix = \".png\"\n",
    "\n",
    "dh.dynamical_heterogenity(images_to_load, cutoff, image_directory, file_prefix, file_suffix)"
   ]
  }
 ],
 "metadata": {
  "kernelspec": {
   "display_name": "Python 3",
   "language": "python",
   "name": "python3"
  },
  "language_info": {
   "codemirror_mode": {
    "name": "ipython",
    "version": 3
   },
   "file_extension": ".py",
   "mimetype": "text/x-python",
   "name": "python",
   "nbconvert_exporter": "python",
   "pygments_lexer": "ipython3",
   "version": "3.6.0"
  }
 },
 "nbformat": 4,
 "nbformat_minor": 2
}
